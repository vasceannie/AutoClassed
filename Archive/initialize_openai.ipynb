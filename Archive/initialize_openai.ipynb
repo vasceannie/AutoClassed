{
 "cells": [
  {
   "metadata": {},
   "cell_type": "markdown",
   "source": [
    "# Data Classification Jypyter Notebook\n",
    "\n",
    "Jupyter Notebook is an interactive web-based environment for creating and sharing documents that contain live code, equations, visualizations, and narrative text. Users can create and share documents that contain code, visualizations and explanatory text. Jupyter notebooks are great for data analysis and visualization. To use Jupyter notebook, you need to install Jupyter Notebook first. Once installed, you can open Jupyter Notebook by running the command `jupyter notebook` in your terminal or command prompt.\n",
    "\n",
    "To create a new notebook, click on `New` and then `Python 3` in the Jupyter Notebook interface. You can then write your code in one cell and run it by pressing `Shift+Enter`. You can add more cells by clicking on `+ Code` in the toolbar. You can also add text cells to add explanations or comments to your code.\n",
    "\n",
    "To understand data, you can import libraries such as pandas, matplotlib, and seaborn. You can then read your data into a pandas dataframe and perform various operations on it. You can use matplotlib to create visualizations of your data. You can also use seaborn, which is a library built on top of matplotlib, to create more advanced visualizations.\n",
    "\n",
    "We'll start the proces by importing the libraries and the data. Then print the first few rows of the file to check if the data was imported correctly."
   ],
   "id": "b44a29460f1aa1a1"
  },
  {
   "metadata": {
    "ExecuteTime": {
     "end_time": "2024-07-27T07:44:30.958745Z",
     "start_time": "2024-07-27T07:44:30.901294Z"
    }
   },
   "cell_type": "code",
   "source": [
    "import pandas as pd\n",
    "\n",
    "df = pd.read_csv('../data/Spend_Intake_010123_123123_071024.csv')\n",
    "df.head()"
   ],
   "id": "fbc121e30a2defb3",
   "outputs": [
    {
     "ename": "ParserError",
     "evalue": "Error tokenizing data. C error: Expected 1 fields in line 11, saw 5\n",
     "output_type": "error",
     "traceback": [
      "\u001B[1;31m---------------------------------------------------------------------------\u001B[0m",
      "\u001B[1;31mParserError\u001B[0m                               Traceback (most recent call last)",
      "Cell \u001B[1;32mIn[6], line 3\u001B[0m\n\u001B[0;32m      1\u001B[0m \u001B[38;5;28;01mimport\u001B[39;00m \u001B[38;5;21;01mpandas\u001B[39;00m \u001B[38;5;28;01mas\u001B[39;00m \u001B[38;5;21;01mpd\u001B[39;00m\n\u001B[1;32m----> 3\u001B[0m df \u001B[38;5;241m=\u001B[39m \u001B[43mpd\u001B[49m\u001B[38;5;241;43m.\u001B[39;49m\u001B[43mread_csv\u001B[49m\u001B[43m(\u001B[49m\u001B[38;5;124;43m'\u001B[39;49m\u001B[38;5;124;43m../data/Spend_Intake_010123_123123_071024.csv\u001B[39;49m\u001B[38;5;124;43m'\u001B[39;49m\u001B[43m)\u001B[49m\n\u001B[0;32m      4\u001B[0m df\u001B[38;5;241m.\u001B[39mhead()\n",
      "File \u001B[1;32mE:\\FuzzyMatcher\\.venv\\spend_asseessment\\Lib\\site-packages\\pandas\\io\\parsers\\readers.py:1026\u001B[0m, in \u001B[0;36mread_csv\u001B[1;34m(filepath_or_buffer, sep, delimiter, header, names, index_col, usecols, dtype, engine, converters, true_values, false_values, skipinitialspace, skiprows, skipfooter, nrows, na_values, keep_default_na, na_filter, verbose, skip_blank_lines, parse_dates, infer_datetime_format, keep_date_col, date_parser, date_format, dayfirst, cache_dates, iterator, chunksize, compression, thousands, decimal, lineterminator, quotechar, quoting, doublequote, escapechar, comment, encoding, encoding_errors, dialect, on_bad_lines, delim_whitespace, low_memory, memory_map, float_precision, storage_options, dtype_backend)\u001B[0m\n\u001B[0;32m   1013\u001B[0m kwds_defaults \u001B[38;5;241m=\u001B[39m _refine_defaults_read(\n\u001B[0;32m   1014\u001B[0m     dialect,\n\u001B[0;32m   1015\u001B[0m     delimiter,\n\u001B[1;32m   (...)\u001B[0m\n\u001B[0;32m   1022\u001B[0m     dtype_backend\u001B[38;5;241m=\u001B[39mdtype_backend,\n\u001B[0;32m   1023\u001B[0m )\n\u001B[0;32m   1024\u001B[0m kwds\u001B[38;5;241m.\u001B[39mupdate(kwds_defaults)\n\u001B[1;32m-> 1026\u001B[0m \u001B[38;5;28;01mreturn\u001B[39;00m \u001B[43m_read\u001B[49m\u001B[43m(\u001B[49m\u001B[43mfilepath_or_buffer\u001B[49m\u001B[43m,\u001B[49m\u001B[43m \u001B[49m\u001B[43mkwds\u001B[49m\u001B[43m)\u001B[49m\n",
      "File \u001B[1;32mE:\\FuzzyMatcher\\.venv\\spend_asseessment\\Lib\\site-packages\\pandas\\io\\parsers\\readers.py:626\u001B[0m, in \u001B[0;36m_read\u001B[1;34m(filepath_or_buffer, kwds)\u001B[0m\n\u001B[0;32m    623\u001B[0m     \u001B[38;5;28;01mreturn\u001B[39;00m parser\n\u001B[0;32m    625\u001B[0m \u001B[38;5;28;01mwith\u001B[39;00m parser:\n\u001B[1;32m--> 626\u001B[0m     \u001B[38;5;28;01mreturn\u001B[39;00m \u001B[43mparser\u001B[49m\u001B[38;5;241;43m.\u001B[39;49m\u001B[43mread\u001B[49m\u001B[43m(\u001B[49m\u001B[43mnrows\u001B[49m\u001B[43m)\u001B[49m\n",
      "File \u001B[1;32mE:\\FuzzyMatcher\\.venv\\spend_asseessment\\Lib\\site-packages\\pandas\\io\\parsers\\readers.py:1923\u001B[0m, in \u001B[0;36mTextFileReader.read\u001B[1;34m(self, nrows)\u001B[0m\n\u001B[0;32m   1916\u001B[0m nrows \u001B[38;5;241m=\u001B[39m validate_integer(\u001B[38;5;124m\"\u001B[39m\u001B[38;5;124mnrows\u001B[39m\u001B[38;5;124m\"\u001B[39m, nrows)\n\u001B[0;32m   1917\u001B[0m \u001B[38;5;28;01mtry\u001B[39;00m:\n\u001B[0;32m   1918\u001B[0m     \u001B[38;5;66;03m# error: \"ParserBase\" has no attribute \"read\"\u001B[39;00m\n\u001B[0;32m   1919\u001B[0m     (\n\u001B[0;32m   1920\u001B[0m         index,\n\u001B[0;32m   1921\u001B[0m         columns,\n\u001B[0;32m   1922\u001B[0m         col_dict,\n\u001B[1;32m-> 1923\u001B[0m     ) \u001B[38;5;241m=\u001B[39m \u001B[38;5;28;43mself\u001B[39;49m\u001B[38;5;241;43m.\u001B[39;49m\u001B[43m_engine\u001B[49m\u001B[38;5;241;43m.\u001B[39;49m\u001B[43mread\u001B[49m\u001B[43m(\u001B[49m\u001B[43m  \u001B[49m\u001B[38;5;66;43;03m# type: ignore[attr-defined]\u001B[39;49;00m\n\u001B[0;32m   1924\u001B[0m \u001B[43m        \u001B[49m\u001B[43mnrows\u001B[49m\n\u001B[0;32m   1925\u001B[0m \u001B[43m    \u001B[49m\u001B[43m)\u001B[49m\n\u001B[0;32m   1926\u001B[0m \u001B[38;5;28;01mexcept\u001B[39;00m \u001B[38;5;167;01mException\u001B[39;00m:\n\u001B[0;32m   1927\u001B[0m     \u001B[38;5;28mself\u001B[39m\u001B[38;5;241m.\u001B[39mclose()\n",
      "File \u001B[1;32mE:\\FuzzyMatcher\\.venv\\spend_asseessment\\Lib\\site-packages\\pandas\\io\\parsers\\c_parser_wrapper.py:234\u001B[0m, in \u001B[0;36mCParserWrapper.read\u001B[1;34m(self, nrows)\u001B[0m\n\u001B[0;32m    232\u001B[0m \u001B[38;5;28;01mtry\u001B[39;00m:\n\u001B[0;32m    233\u001B[0m     \u001B[38;5;28;01mif\u001B[39;00m \u001B[38;5;28mself\u001B[39m\u001B[38;5;241m.\u001B[39mlow_memory:\n\u001B[1;32m--> 234\u001B[0m         chunks \u001B[38;5;241m=\u001B[39m \u001B[38;5;28;43mself\u001B[39;49m\u001B[38;5;241;43m.\u001B[39;49m\u001B[43m_reader\u001B[49m\u001B[38;5;241;43m.\u001B[39;49m\u001B[43mread_low_memory\u001B[49m\u001B[43m(\u001B[49m\u001B[43mnrows\u001B[49m\u001B[43m)\u001B[49m\n\u001B[0;32m    235\u001B[0m         \u001B[38;5;66;03m# destructive to chunks\u001B[39;00m\n\u001B[0;32m    236\u001B[0m         data \u001B[38;5;241m=\u001B[39m _concatenate_chunks(chunks)\n",
      "File \u001B[1;32mparsers.pyx:838\u001B[0m, in \u001B[0;36mpandas._libs.parsers.TextReader.read_low_memory\u001B[1;34m()\u001B[0m\n",
      "File \u001B[1;32mparsers.pyx:905\u001B[0m, in \u001B[0;36mpandas._libs.parsers.TextReader._read_rows\u001B[1;34m()\u001B[0m\n",
      "File \u001B[1;32mparsers.pyx:874\u001B[0m, in \u001B[0;36mpandas._libs.parsers.TextReader._tokenize_rows\u001B[1;34m()\u001B[0m\n",
      "File \u001B[1;32mparsers.pyx:891\u001B[0m, in \u001B[0;36mpandas._libs.parsers.TextReader._check_tokenize_status\u001B[1;34m()\u001B[0m\n",
      "File \u001B[1;32mparsers.pyx:2061\u001B[0m, in \u001B[0;36mpandas._libs.parsers.raise_parser_error\u001B[1;34m()\u001B[0m\n",
      "\u001B[1;31mParserError\u001B[0m: Error tokenizing data. C error: Expected 1 fields in line 11, saw 5\n"
     ]
    }
   ],
   "execution_count": 6
  },
  {
   "metadata": {},
   "cell_type": "markdown",
   "source": "The \\t suggests that the data is tab-delimited. So let's try this again.",
   "id": "83b6b8e8000a144"
  },
  {
   "metadata": {
    "ExecuteTime": {
     "end_time": "2024-07-15T16:07:30.831963Z",
     "start_time": "2024-07-15T16:07:30.538223Z"
    }
   },
   "cell_type": "code",
   "source": [
    "import pandas as pd\n",
    "try:\n",
    "    df = pd.read_csv('data/Spend_Intake_010124_063024.csv', sep='\\t')\n",
    "    df.head()\n",
    "except Exception as e:\n",
    "    print(e)"
   ],
   "id": "4b3fc57e49eeb5",
   "outputs": [
    {
     "ename": "ParserError",
     "evalue": "Error tokenizing data. C error: Expected 1 fields in line 14, saw 39\n",
     "output_type": "error",
     "traceback": [
      "\u001B[1;31m---------------------------------------------------------------------------\u001B[0m",
      "\u001B[1;31mParserError\u001B[0m                               Traceback (most recent call last)",
      "Cell \u001B[1;32mIn[6], line 3\u001B[0m\n\u001B[0;32m      1\u001B[0m \u001B[38;5;28;01mimport\u001B[39;00m \u001B[38;5;21;01mpandas\u001B[39;00m \u001B[38;5;28;01mas\u001B[39;00m \u001B[38;5;21;01mpd\u001B[39;00m\n\u001B[1;32m----> 3\u001B[0m df \u001B[38;5;241m=\u001B[39m pd\u001B[38;5;241m.\u001B[39mread_csv(\u001B[38;5;124m'\u001B[39m\u001B[38;5;124mdata/Spend_Intake_010124_063024.csv\u001B[39m\u001B[38;5;124m'\u001B[39m, sep\u001B[38;5;241m=\u001B[39m\u001B[38;5;124m'\u001B[39m\u001B[38;5;130;01m\\t\u001B[39;00m\u001B[38;5;124m'\u001B[39m)\n\u001B[0;32m      4\u001B[0m df\u001B[38;5;241m.\u001B[39mhead()\n",
      "File \u001B[1;32m~\\miniconda3\\Lib\\site-packages\\pandas\\io\\parsers\\readers.py:1026\u001B[0m, in \u001B[0;36mread_csv\u001B[1;34m(filepath_or_buffer, sep, delimiter, header, names, index_col, usecols, dtype, engine, converters, true_values, false_values, skipinitialspace, skiprows, skipfooter, nrows, na_values, keep_default_na, na_filter, verbose, skip_blank_lines, parse_dates, infer_datetime_format, keep_date_col, date_parser, date_format, dayfirst, cache_dates, iterator, chunksize, compression, thousands, decimal, lineterminator, quotechar, quoting, doublequote, escapechar, comment, encoding, encoding_errors, dialect, on_bad_lines, delim_whitespace, low_memory, memory_map, float_precision, storage_options, dtype_backend)\u001B[0m\n\u001B[0;32m   1013\u001B[0m kwds_defaults \u001B[38;5;241m=\u001B[39m _refine_defaults_read(\n\u001B[0;32m   1014\u001B[0m     dialect,\n\u001B[0;32m   1015\u001B[0m     delimiter,\n\u001B[1;32m   (...)\u001B[0m\n\u001B[0;32m   1022\u001B[0m     dtype_backend\u001B[38;5;241m=\u001B[39mdtype_backend,\n\u001B[0;32m   1023\u001B[0m )\n\u001B[0;32m   1024\u001B[0m kwds\u001B[38;5;241m.\u001B[39mupdate(kwds_defaults)\n\u001B[1;32m-> 1026\u001B[0m \u001B[38;5;28;01mreturn\u001B[39;00m _read(filepath_or_buffer, kwds)\n",
      "File \u001B[1;32m~\\miniconda3\\Lib\\site-packages\\pandas\\io\\parsers\\readers.py:626\u001B[0m, in \u001B[0;36m_read\u001B[1;34m(filepath_or_buffer, kwds)\u001B[0m\n\u001B[0;32m    623\u001B[0m     \u001B[38;5;28;01mreturn\u001B[39;00m parser\n\u001B[0;32m    625\u001B[0m \u001B[38;5;28;01mwith\u001B[39;00m parser:\n\u001B[1;32m--> 626\u001B[0m     \u001B[38;5;28;01mreturn\u001B[39;00m parser\u001B[38;5;241m.\u001B[39mread(nrows)\n",
      "File \u001B[1;32m~\\miniconda3\\Lib\\site-packages\\pandas\\io\\parsers\\readers.py:1923\u001B[0m, in \u001B[0;36mTextFileReader.read\u001B[1;34m(self, nrows)\u001B[0m\n\u001B[0;32m   1916\u001B[0m nrows \u001B[38;5;241m=\u001B[39m validate_integer(\u001B[38;5;124m\"\u001B[39m\u001B[38;5;124mnrows\u001B[39m\u001B[38;5;124m\"\u001B[39m, nrows)\n\u001B[0;32m   1917\u001B[0m \u001B[38;5;28;01mtry\u001B[39;00m:\n\u001B[0;32m   1918\u001B[0m     \u001B[38;5;66;03m# error: \"ParserBase\" has no attribute \"read\"\u001B[39;00m\n\u001B[0;32m   1919\u001B[0m     (\n\u001B[0;32m   1920\u001B[0m         index,\n\u001B[0;32m   1921\u001B[0m         columns,\n\u001B[0;32m   1922\u001B[0m         col_dict,\n\u001B[1;32m-> 1923\u001B[0m     ) \u001B[38;5;241m=\u001B[39m \u001B[38;5;28mself\u001B[39m\u001B[38;5;241m.\u001B[39m_engine\u001B[38;5;241m.\u001B[39mread(  \u001B[38;5;66;03m# type: ignore[attr-defined]\u001B[39;00m\n\u001B[0;32m   1924\u001B[0m         nrows\n\u001B[0;32m   1925\u001B[0m     )\n\u001B[0;32m   1926\u001B[0m \u001B[38;5;28;01mexcept\u001B[39;00m \u001B[38;5;167;01mException\u001B[39;00m:\n\u001B[0;32m   1927\u001B[0m     \u001B[38;5;28mself\u001B[39m\u001B[38;5;241m.\u001B[39mclose()\n",
      "File \u001B[1;32m~\\miniconda3\\Lib\\site-packages\\pandas\\io\\parsers\\c_parser_wrapper.py:234\u001B[0m, in \u001B[0;36mCParserWrapper.read\u001B[1;34m(self, nrows)\u001B[0m\n\u001B[0;32m    232\u001B[0m \u001B[38;5;28;01mtry\u001B[39;00m:\n\u001B[0;32m    233\u001B[0m     \u001B[38;5;28;01mif\u001B[39;00m \u001B[38;5;28mself\u001B[39m\u001B[38;5;241m.\u001B[39mlow_memory:\n\u001B[1;32m--> 234\u001B[0m         chunks \u001B[38;5;241m=\u001B[39m \u001B[38;5;28mself\u001B[39m\u001B[38;5;241m.\u001B[39m_reader\u001B[38;5;241m.\u001B[39mread_low_memory(nrows)\n\u001B[0;32m    235\u001B[0m         \u001B[38;5;66;03m# destructive to chunks\u001B[39;00m\n\u001B[0;32m    236\u001B[0m         data \u001B[38;5;241m=\u001B[39m _concatenate_chunks(chunks)\n",
      "File \u001B[1;32mparsers.pyx:838\u001B[0m, in \u001B[0;36mpandas._libs.parsers.TextReader.read_low_memory\u001B[1;34m()\u001B[0m\n",
      "File \u001B[1;32mparsers.pyx:905\u001B[0m, in \u001B[0;36mpandas._libs.parsers.TextReader._read_rows\u001B[1;34m()\u001B[0m\n",
      "File \u001B[1;32mparsers.pyx:874\u001B[0m, in \u001B[0;36mpandas._libs.parsers.TextReader._tokenize_rows\u001B[1;34m()\u001B[0m\n",
      "File \u001B[1;32mparsers.pyx:891\u001B[0m, in \u001B[0;36mpandas._libs.parsers.TextReader._check_tokenize_status\u001B[1;34m()\u001B[0m\n",
      "File \u001B[1;32mparsers.pyx:2061\u001B[0m, in \u001B[0;36mpandas._libs.parsers.raise_parser_error\u001B[1;34m()\u001B[0m\n",
      "\u001B[1;31mParserError\u001B[0m: Error tokenizing data. C error: Expected 1 fields in line 14, saw 39\n"
     ]
    }
   ],
   "execution_count": 6
  },
  {
   "metadata": {},
   "cell_type": "markdown",
   "source": "Seems like there was some error in the data. Let's try again with some additional logic to clean each row.",
   "id": "6a8f5b5ea0397952"
  },
  {
   "metadata": {
    "ExecuteTime": {
     "end_time": "2024-07-15T16:08:00.595918Z",
     "start_time": "2024-07-15T16:07:56.499177Z"
    }
   },
   "cell_type": "code",
   "source": [
    "# Ensure pandas is imported\n",
    "import pandas as pd\n",
    "\n",
    "\n",
    "def clean_messy_csv(file_path):\n",
    "    \"\"\"\n",
    "    Reads a CSV file with tab-separated values, cleans it, and returns a pandas DataFrame.\n",
    "\n",
    "    Parameters:\n",
    "    file_path (str): The path to the CSV file.\n",
    "\n",
    "    Returns:\n",
    "    pd.DataFrame: Cleaned data as a pandas DataFrame.\n",
    "    \"\"\"\n",
    "    # Read the file as a text file to manually process the lines\n",
    "    with open(file_path, \"r\", encoding='utf-8') as file:  # Added encoding to handle potential UnicodeDecodeErrors\n",
    "        lines = file.readlines()\n",
    "\n",
    "    # Split the header and data lines\n",
    "    header = lines[0].strip().split(\"\\t\")\n",
    "    data_lines = [line.strip().split(\"\\t\") for line in lines[1:]]\n",
    "\n",
    "    # Create a DataFrame from the processed data\n",
    "    cleaned_data = pd.DataFrame(data_lines, columns=header)\n",
    "\n",
    "    # Remove any leading/trailing whitespace characters from the headers\n",
    "    cleaned_data.columns = cleaned_data.columns.str.strip()\n",
    "\n",
    "    # Optionally, remove any rows with entirely empty values\n",
    "    cleaned_data.dropna(how=\"all\", inplace=True)\n",
    "\n",
    "    return cleaned_data\n",
    "\n",
    "\n",
    "# Now, let's use the function and display the first few rows of the cleaned DataFrame\n",
    "clean_data = clean_messy_csv('data/Spend_Intake_010124_063024.csv')\n",
    "clean_data.head()"
   ],
   "id": "24640673cd1fa370",
   "outputs": [
    {
     "data": {
      "text/plain": [
       "  \"source_system date_extract transaction_id transaction_number  \\\n",
       "0       \"ARS_JDE   2024-07-10                           4513040   \n",
       "1       \"ARS_JDE   2024-07-10                           4513040   \n",
       "2       \"ARS_JDE   2024-07-10                           4513040   \n",
       "3       \"ARS_JDE   2024-07-10                           4513040   \n",
       "4       \"ARS_JDE   2024-07-10                           4788252   \n",
       "\n",
       "  transaction_line_number supplier_id  \\\n",
       "0                   1.000      776691   \n",
       "1                   2.000      776691   \n",
       "2                   3.000      776691   \n",
       "3                   4.000      776691   \n",
       "4                    .000      649327   \n",
       "\n",
       "                              supplier_name  \\\n",
       "0  RHEEM SALES COMPANY INC                    \n",
       "1  RHEEM SALES COMPANY INC                    \n",
       "2  RHEEM SALES COMPANY INC                    \n",
       "3  RHEEM SALES COMPANY INC                    \n",
       "4  C & J FAMILY TRUST                         \n",
       "\n",
       "                                        dba  \\\n",
       "0  RHEEM SALES COMPANY INC                    \n",
       "1  RHEEM SALES COMPANY INC                    \n",
       "2  RHEEM SALES COMPANY INC                    \n",
       "3  RHEEM SALES COMPANY INC                    \n",
       "4  C & J FAMILY TRUST                         \n",
       "\n",
       "                                   supplier_address supplier_contracted  ...  \\\n",
       "0   PO BOX 533013 CHARLOTTE NC 28290-3013                                ...   \n",
       "1   PO BOX 533013 CHARLOTTE NC 28290-3013                                ...   \n",
       "2   PO BOX 533013 CHARLOTTE NC 28290-3013                                ...   \n",
       "3   PO BOX 533013 CHARLOTTE NC 28290-3013                                ...   \n",
       "4  3100 A PULLMAN ST COSTA MESA` CA 92626                                ...   \n",
       "\n",
       "                      vendor_type item_3rd_number company_code  \\\n",
       "0  General Vendor -DO NOT USE                            09202   \n",
       "1  General Vendor -DO NOT USE                            09202   \n",
       "2  General Vendor -DO NOT USE                            09202   \n",
       "3  General Vendor -DO NOT USE                            09202   \n",
       "4  General Vendor -DO NOT USE                            08101   \n",
       "\n",
       "                     company_name                company_division  \\\n",
       "0  McCarthy Heating & Air          Northeast Division               \n",
       "1  McCarthy Heating & Air          Northeast Division               \n",
       "2  McCarthy Heating & Air          Northeast Division               \n",
       "3  McCarthy Heating & Air          Northeast Division               \n",
       "4  Rescue Rooter Orange #560       Plumbing Division                \n",
       "\n",
       "                   company_region                    company_zone  \\\n",
       "0  Mid-Atlantic Region             HVAC/Combo Zone                  \n",
       "1  Mid-Atlantic Region             HVAC/Combo Zone                  \n",
       "2  Mid-Atlantic Region             HVAC/Combo Zone                  \n",
       "3  Mid-Atlantic Region             HVAC/Combo Zone                  \n",
       "4  CA Plumbing Region              Plumbing Zone                    \n",
       "\n",
       "             company_service_line            company_service_type eof\",,,,,,,,  \n",
       "0  HVAC (02)                       Home Depot AOR (10)              X\",,,,,,,,  \n",
       "1  HVAC (02)                       Home Depot AOR (10)              X\",,,,,,,,  \n",
       "2  HVAC (02)                       Home Depot AOR (10)              X\",,,,,,,,  \n",
       "3  HVAC (02)                       Home Depot AOR (10)              X\",,,,,,,,  \n",
       "4  Administrative (00)             Administrative (00)              X\",,,,,,,,  \n",
       "\n",
       "[5 rows x 64 columns]"
      ],
      "text/html": [
       "<div>\n",
       "<style scoped>\n",
       "    .dataframe tbody tr th:only-of-type {\n",
       "        vertical-align: middle;\n",
       "    }\n",
       "\n",
       "    .dataframe tbody tr th {\n",
       "        vertical-align: top;\n",
       "    }\n",
       "\n",
       "    .dataframe thead th {\n",
       "        text-align: right;\n",
       "    }\n",
       "</style>\n",
       "<table border=\"1\" class=\"dataframe\">\n",
       "  <thead>\n",
       "    <tr style=\"text-align: right;\">\n",
       "      <th></th>\n",
       "      <th>\"source_system</th>\n",
       "      <th>date_extract</th>\n",
       "      <th>transaction_id</th>\n",
       "      <th>transaction_number</th>\n",
       "      <th>transaction_line_number</th>\n",
       "      <th>supplier_id</th>\n",
       "      <th>supplier_name</th>\n",
       "      <th>dba</th>\n",
       "      <th>supplier_address</th>\n",
       "      <th>supplier_contracted</th>\n",
       "      <th>...</th>\n",
       "      <th>vendor_type</th>\n",
       "      <th>item_3rd_number</th>\n",
       "      <th>company_code</th>\n",
       "      <th>company_name</th>\n",
       "      <th>company_division</th>\n",
       "      <th>company_region</th>\n",
       "      <th>company_zone</th>\n",
       "      <th>company_service_line</th>\n",
       "      <th>company_service_type</th>\n",
       "      <th>eof\",,,,,,,,</th>\n",
       "    </tr>\n",
       "  </thead>\n",
       "  <tbody>\n",
       "    <tr>\n",
       "      <th>0</th>\n",
       "      <td>\"ARS_JDE</td>\n",
       "      <td>2024-07-10</td>\n",
       "      <td></td>\n",
       "      <td>4513040</td>\n",
       "      <td>1.000</td>\n",
       "      <td>776691</td>\n",
       "      <td>RHEEM SALES COMPANY INC</td>\n",
       "      <td>RHEEM SALES COMPANY INC</td>\n",
       "      <td>PO BOX 533013 CHARLOTTE NC 28290-3013</td>\n",
       "      <td></td>\n",
       "      <td>...</td>\n",
       "      <td>General Vendor -DO NOT USE</td>\n",
       "      <td></td>\n",
       "      <td>09202</td>\n",
       "      <td>McCarthy Heating &amp; Air</td>\n",
       "      <td>Northeast Division</td>\n",
       "      <td>Mid-Atlantic Region</td>\n",
       "      <td>HVAC/Combo Zone</td>\n",
       "      <td>HVAC (02)</td>\n",
       "      <td>Home Depot AOR (10)</td>\n",
       "      <td>X\",,,,,,,,</td>\n",
       "    </tr>\n",
       "    <tr>\n",
       "      <th>1</th>\n",
       "      <td>\"ARS_JDE</td>\n",
       "      <td>2024-07-10</td>\n",
       "      <td></td>\n",
       "      <td>4513040</td>\n",
       "      <td>2.000</td>\n",
       "      <td>776691</td>\n",
       "      <td>RHEEM SALES COMPANY INC</td>\n",
       "      <td>RHEEM SALES COMPANY INC</td>\n",
       "      <td>PO BOX 533013 CHARLOTTE NC 28290-3013</td>\n",
       "      <td></td>\n",
       "      <td>...</td>\n",
       "      <td>General Vendor -DO NOT USE</td>\n",
       "      <td></td>\n",
       "      <td>09202</td>\n",
       "      <td>McCarthy Heating &amp; Air</td>\n",
       "      <td>Northeast Division</td>\n",
       "      <td>Mid-Atlantic Region</td>\n",
       "      <td>HVAC/Combo Zone</td>\n",
       "      <td>HVAC (02)</td>\n",
       "      <td>Home Depot AOR (10)</td>\n",
       "      <td>X\",,,,,,,,</td>\n",
       "    </tr>\n",
       "    <tr>\n",
       "      <th>2</th>\n",
       "      <td>\"ARS_JDE</td>\n",
       "      <td>2024-07-10</td>\n",
       "      <td></td>\n",
       "      <td>4513040</td>\n",
       "      <td>3.000</td>\n",
       "      <td>776691</td>\n",
       "      <td>RHEEM SALES COMPANY INC</td>\n",
       "      <td>RHEEM SALES COMPANY INC</td>\n",
       "      <td>PO BOX 533013 CHARLOTTE NC 28290-3013</td>\n",
       "      <td></td>\n",
       "      <td>...</td>\n",
       "      <td>General Vendor -DO NOT USE</td>\n",
       "      <td></td>\n",
       "      <td>09202</td>\n",
       "      <td>McCarthy Heating &amp; Air</td>\n",
       "      <td>Northeast Division</td>\n",
       "      <td>Mid-Atlantic Region</td>\n",
       "      <td>HVAC/Combo Zone</td>\n",
       "      <td>HVAC (02)</td>\n",
       "      <td>Home Depot AOR (10)</td>\n",
       "      <td>X\",,,,,,,,</td>\n",
       "    </tr>\n",
       "    <tr>\n",
       "      <th>3</th>\n",
       "      <td>\"ARS_JDE</td>\n",
       "      <td>2024-07-10</td>\n",
       "      <td></td>\n",
       "      <td>4513040</td>\n",
       "      <td>4.000</td>\n",
       "      <td>776691</td>\n",
       "      <td>RHEEM SALES COMPANY INC</td>\n",
       "      <td>RHEEM SALES COMPANY INC</td>\n",
       "      <td>PO BOX 533013 CHARLOTTE NC 28290-3013</td>\n",
       "      <td></td>\n",
       "      <td>...</td>\n",
       "      <td>General Vendor -DO NOT USE</td>\n",
       "      <td></td>\n",
       "      <td>09202</td>\n",
       "      <td>McCarthy Heating &amp; Air</td>\n",
       "      <td>Northeast Division</td>\n",
       "      <td>Mid-Atlantic Region</td>\n",
       "      <td>HVAC/Combo Zone</td>\n",
       "      <td>HVAC (02)</td>\n",
       "      <td>Home Depot AOR (10)</td>\n",
       "      <td>X\",,,,,,,,</td>\n",
       "    </tr>\n",
       "    <tr>\n",
       "      <th>4</th>\n",
       "      <td>\"ARS_JDE</td>\n",
       "      <td>2024-07-10</td>\n",
       "      <td></td>\n",
       "      <td>4788252</td>\n",
       "      <td>.000</td>\n",
       "      <td>649327</td>\n",
       "      <td>C &amp; J FAMILY TRUST</td>\n",
       "      <td>C &amp; J FAMILY TRUST</td>\n",
       "      <td>3100 A PULLMAN ST COSTA MESA` CA 92626</td>\n",
       "      <td></td>\n",
       "      <td>...</td>\n",
       "      <td>General Vendor -DO NOT USE</td>\n",
       "      <td></td>\n",
       "      <td>08101</td>\n",
       "      <td>Rescue Rooter Orange #560</td>\n",
       "      <td>Plumbing Division</td>\n",
       "      <td>CA Plumbing Region</td>\n",
       "      <td>Plumbing Zone</td>\n",
       "      <td>Administrative (00)</td>\n",
       "      <td>Administrative (00)</td>\n",
       "      <td>X\",,,,,,,,</td>\n",
       "    </tr>\n",
       "  </tbody>\n",
       "</table>\n",
       "<p>5 rows × 64 columns</p>\n",
       "</div>"
      ]
     },
     "execution_count": 7,
     "metadata": {},
     "output_type": "execute_result"
    }
   ],
   "execution_count": 7
  },
  {
   "metadata": {},
   "cell_type": "markdown",
   "source": "Let's filter out some of the noise and create a smaller dataframe from our original set of data.",
   "id": "74c78c71301a6b33"
  },
  {
   "metadata": {
    "ExecuteTime": {
     "end_time": "2024-07-15T16:08:05.206074Z",
     "start_time": "2024-07-15T16:08:05.140359Z"
    }
   },
   "cell_type": "code",
   "source": [
    "# Extract a smaller number of fields from a dataframe\n",
    "smaller_df = clean_data[['supplier_id', 'supplier_name', 'dba', 'gl_account_code', 'gl_account_desc',\n",
    "                         'cost_centre_code', 'cost_centre_code_desc', 'internal_classification_code',\n",
    "                         'internal_classification_desc', 'item_code', 'order_type']]\n",
    "smaller_df.head()\n"
   ],
   "id": "fea7c1f7d5ffc52",
   "outputs": [
    {
     "data": {
      "text/plain": [
       "  supplier_id                             supplier_name  \\\n",
       "0      776691  RHEEM SALES COMPANY INC                    \n",
       "1      776691  RHEEM SALES COMPANY INC                    \n",
       "2      776691  RHEEM SALES COMPANY INC                    \n",
       "3      776691  RHEEM SALES COMPANY INC                    \n",
       "4      649327  C & J FAMILY TRUST                         \n",
       "\n",
       "                                        dba    gl_account_code  \\\n",
       "0  RHEEM SALES COMPANY INC                       92020210.5207   \n",
       "1  RHEEM SALES COMPANY INC                       92020210.5207   \n",
       "2  RHEEM SALES COMPANY INC                       92020210.5205   \n",
       "3  RHEEM SALES COMPANY INC                       92020210.5209   \n",
       "4  C & J FAMILY TRUST                            81010000.7210   \n",
       "\n",
       "                  gl_account_desc cost_centre_code  \\\n",
       "0  Serialized Equipment                   92020210   \n",
       "1  Serialized Equipment                   92020210   \n",
       "2  Parts and Materials                    92020210   \n",
       "3  Vendor Rebates Earned                  92020210   \n",
       "4  Rent Expense                           81010000   \n",
       "\n",
       "            cost_centre_code_desc internal_classification_code  \\\n",
       "0  HVAC HDepot AOR McCarthy Heat     31450447                    \n",
       "1  HVAC HDepot AOR McCarthy Heat     31450447                    \n",
       "2  HVAC HDepot AOR McCarthy Heat     31450447                    \n",
       "3  HVAC HDepot AOR McCarthy Heat     31450447                    \n",
       "4  Admn RR Orange #560               0124BASE1                   \n",
       "\n",
       "  internal_classification_desc                      item_code  \\\n",
       "0      Supplier Invoice Number       UP18AZ48AJVCA (W18231586   \n",
       "1      Supplier Invoice Number       RHMVZ6021SEACAJ (W162370   \n",
       "2      Supplier Invoice Number                    Sales tax     \n",
       "3      Supplier Invoice Number         Vendor Rebates Earned    \n",
       "4      Supplier Invoice Number  C&J Family Trust (Base Rent)    \n",
       "\n",
       "                       order_type  \n",
       "0  JOB/FIELD TICKET PURCHASE       \n",
       "1  JOB/FIELD TICKET PURCHASE       \n",
       "2  JOB/FIELD TICKET PURCHASE       \n",
       "3  JOB/FIELD TICKET PURCHASE       \n",
       "4                                  "
      ],
      "text/html": [
       "<div>\n",
       "<style scoped>\n",
       "    .dataframe tbody tr th:only-of-type {\n",
       "        vertical-align: middle;\n",
       "    }\n",
       "\n",
       "    .dataframe tbody tr th {\n",
       "        vertical-align: top;\n",
       "    }\n",
       "\n",
       "    .dataframe thead th {\n",
       "        text-align: right;\n",
       "    }\n",
       "</style>\n",
       "<table border=\"1\" class=\"dataframe\">\n",
       "  <thead>\n",
       "    <tr style=\"text-align: right;\">\n",
       "      <th></th>\n",
       "      <th>supplier_id</th>\n",
       "      <th>supplier_name</th>\n",
       "      <th>dba</th>\n",
       "      <th>gl_account_code</th>\n",
       "      <th>gl_account_desc</th>\n",
       "      <th>cost_centre_code</th>\n",
       "      <th>cost_centre_code_desc</th>\n",
       "      <th>internal_classification_code</th>\n",
       "      <th>internal_classification_desc</th>\n",
       "      <th>item_code</th>\n",
       "      <th>order_type</th>\n",
       "    </tr>\n",
       "  </thead>\n",
       "  <tbody>\n",
       "    <tr>\n",
       "      <th>0</th>\n",
       "      <td>776691</td>\n",
       "      <td>RHEEM SALES COMPANY INC</td>\n",
       "      <td>RHEEM SALES COMPANY INC</td>\n",
       "      <td>92020210.5207</td>\n",
       "      <td>Serialized Equipment</td>\n",
       "      <td>92020210</td>\n",
       "      <td>HVAC HDepot AOR McCarthy Heat</td>\n",
       "      <td>31450447</td>\n",
       "      <td>Supplier Invoice Number</td>\n",
       "      <td>UP18AZ48AJVCA (W18231586</td>\n",
       "      <td>JOB/FIELD TICKET PURCHASE</td>\n",
       "    </tr>\n",
       "    <tr>\n",
       "      <th>1</th>\n",
       "      <td>776691</td>\n",
       "      <td>RHEEM SALES COMPANY INC</td>\n",
       "      <td>RHEEM SALES COMPANY INC</td>\n",
       "      <td>92020210.5207</td>\n",
       "      <td>Serialized Equipment</td>\n",
       "      <td>92020210</td>\n",
       "      <td>HVAC HDepot AOR McCarthy Heat</td>\n",
       "      <td>31450447</td>\n",
       "      <td>Supplier Invoice Number</td>\n",
       "      <td>RHMVZ6021SEACAJ (W162370</td>\n",
       "      <td>JOB/FIELD TICKET PURCHASE</td>\n",
       "    </tr>\n",
       "    <tr>\n",
       "      <th>2</th>\n",
       "      <td>776691</td>\n",
       "      <td>RHEEM SALES COMPANY INC</td>\n",
       "      <td>RHEEM SALES COMPANY INC</td>\n",
       "      <td>92020210.5205</td>\n",
       "      <td>Parts and Materials</td>\n",
       "      <td>92020210</td>\n",
       "      <td>HVAC HDepot AOR McCarthy Heat</td>\n",
       "      <td>31450447</td>\n",
       "      <td>Supplier Invoice Number</td>\n",
       "      <td>Sales tax</td>\n",
       "      <td>JOB/FIELD TICKET PURCHASE</td>\n",
       "    </tr>\n",
       "    <tr>\n",
       "      <th>3</th>\n",
       "      <td>776691</td>\n",
       "      <td>RHEEM SALES COMPANY INC</td>\n",
       "      <td>RHEEM SALES COMPANY INC</td>\n",
       "      <td>92020210.5209</td>\n",
       "      <td>Vendor Rebates Earned</td>\n",
       "      <td>92020210</td>\n",
       "      <td>HVAC HDepot AOR McCarthy Heat</td>\n",
       "      <td>31450447</td>\n",
       "      <td>Supplier Invoice Number</td>\n",
       "      <td>Vendor Rebates Earned</td>\n",
       "      <td>JOB/FIELD TICKET PURCHASE</td>\n",
       "    </tr>\n",
       "    <tr>\n",
       "      <th>4</th>\n",
       "      <td>649327</td>\n",
       "      <td>C &amp; J FAMILY TRUST</td>\n",
       "      <td>C &amp; J FAMILY TRUST</td>\n",
       "      <td>81010000.7210</td>\n",
       "      <td>Rent Expense</td>\n",
       "      <td>81010000</td>\n",
       "      <td>Admn RR Orange #560</td>\n",
       "      <td>0124BASE1</td>\n",
       "      <td>Supplier Invoice Number</td>\n",
       "      <td>C&amp;J Family Trust (Base Rent)</td>\n",
       "      <td></td>\n",
       "    </tr>\n",
       "  </tbody>\n",
       "</table>\n",
       "</div>"
      ]
     },
     "execution_count": 8,
     "metadata": {},
     "output_type": "execute_result"
    }
   ],
   "execution_count": 8
  },
  {
   "metadata": {},
   "cell_type": "markdown",
   "source": [
    "Let's pause here and take a minute to create our assistant on the OpenAI playground. Once complete, we resume here by \n",
    "setting our OpenAI API key as an environment variable and call it into the client object."
   ],
   "id": "a1e42035b4a363d"
  },
  {
   "metadata": {
    "ExecuteTime": {
     "end_time": "2024-07-15T16:08:08.636378Z",
     "start_time": "2024-07-15T16:08:08.441136Z"
    }
   },
   "cell_type": "code",
   "source": [
    "import os\n",
    "from openai import OpenAI\n",
    "\n",
    "api_key = os.environ.get(\"OPENAI_API_KEY\")\n",
    "if not api_key:\n",
    "    raise ValueError(\"OPENAI_API_KEY environment variable is not set.\")\n",
    "client = OpenAI(api_key=api_key)\n",
    "print(\"OpenAI API key is set.\")"
   ],
   "id": "cffe2d84f742819b",
   "outputs": [
    {
     "name": "stdout",
     "output_type": "stream",
     "text": [
      "OpenAI API key is set.\n"
     ]
    }
   ],
   "execution_count": 9
  },
  {
   "metadata": {},
   "cell_type": "markdown",
   "source": [
    "Next, we create a thread so that we can begin to add messages to it. We import json & define a function to make \n",
    "responses interpretable."
   ],
   "id": "f1cf95938624a56e"
  },
  {
   "metadata": {
    "ExecuteTime": {
     "end_time": "2024-07-15T16:17:41.779358Z",
     "start_time": "2024-07-15T16:17:41.560812Z"
    }
   },
   "cell_type": "code",
   "source": [
    "import json\n",
    "\n",
    "\n",
    "# Define a function to display the JSON response\n",
    "def show_json(obj):\n",
    "    display(json.loads(obj.model_dump_json()))\n",
    "\n",
    "\n",
    "# Create a thread\n",
    "thread = client.beta.threads.create()\n",
    "show_json(thread)"
   ],
   "id": "29c36e192323c0b5",
   "outputs": [
    {
     "data": {
      "text/plain": [
       "{'id': 'thread_sDeaEVLlJjjdoYM7m4yiaxP1',\n",
       " 'created_at': 1721060262,\n",
       " 'metadata': {},\n",
       " 'object': 'thread',\n",
       " 'tool_resources': {'code_interpreter': None, 'file_search': None}}"
      ]
     },
     "metadata": {},
     "output_type": "display_data"
    }
   ],
   "execution_count": 17
  },
  {
   "metadata": {},
   "cell_type": "markdown",
   "source": [
    "Now, we can add messages to the thread.\n",
    "\n",
    "Let's call the supplier name field from our dataframe and ask OpenAI to classify it, using the first as a test."
   ],
   "id": "c203b839146d1dc1"
  },
  {
   "metadata": {
    "ExecuteTime": {
     "end_time": "2024-07-15T16:55:13.530315Z",
     "start_time": "2024-07-15T16:55:13.067407Z"
    }
   },
   "cell_type": "code",
   "source": [
    "# Call the name of the supplier from our dataframe\n",
    "supplier_name_field = smaller_df['supplier_name']\n",
    "test_supplier_name = supplier_name_field.iloc[0]\n",
    "\n",
    "print(f\"Test supplier name: {test_supplier_name}\")\n",
    "\n",
    "# Add a message to the thread\n",
    "message = client.beta.threads.messages.create(\n",
    "    thread_id=thread.id,\n",
    "    role=\"user\",\n",
    "    content=f\"I would like to validate and classify the organization: {test_supplier_name}, please include a \"\n",
    "            f\"confidence score for each classification and any sources cited. If results are inconclusive, please \"\n",
    "            f\"indicate that is the case. Please produce your response in a tablular format with the following \"\n",
    "            f\"columns: Validated?, Confidence Score, Source, Classification and Comments.\"\n",
    ")\n",
    "show_json(message)\n",
    "\n"
   ],
   "id": "cfd1cf2c12f53e6",
   "outputs": [
    {
     "name": "stdout",
     "output_type": "stream",
     "text": [
      "Test supplier name: RHEEM SALES COMPANY INC                 \n"
     ]
    },
    {
     "data": {
      "text/plain": [
       "{'id': 'msg_MGQefPO0syFOtk7PcvCIlQNu',\n",
       " 'assistant_id': None,\n",
       " 'attachments': [],\n",
       " 'completed_at': None,\n",
       " 'content': [{'text': {'annotations': [],\n",
       "    'value': 'I would like to validate and classify the organization: RHEEM SALES COMPANY INC                 , please include a confidence score for each classification and any sources cited. If results are inconclusive, please indicate that is the case. Please produce your response in a tablular format with the following columns: Validated?, Confidence Score, Source, Classification and Comments.'},\n",
       "   'type': 'text'}],\n",
       " 'created_at': 1721062514,\n",
       " 'incomplete_at': None,\n",
       " 'incomplete_details': None,\n",
       " 'metadata': {},\n",
       " 'object': 'thread.message',\n",
       " 'role': 'user',\n",
       " 'run_id': None,\n",
       " 'status': None,\n",
       " 'thread_id': 'thread_XaQKbYe7HEhFNgyphNwY7jQj'}"
      ]
     },
     "metadata": {},
     "output_type": "display_data"
    }
   ],
   "execution_count": 33
  },
  {
   "metadata": {},
   "cell_type": "markdown",
   "source": [
    "A big difference between the OpenAI chat interface and the API is that to get a response from a configured assistant,\n",
    " we must create a run. Creating a run will indicate to the assistant that it should look at all the messages in a \n",
    " thread and take action by adding a single response or using its tools."
   ],
   "id": "5c8e163c6be77995"
  },
  {
   "metadata": {
    "ExecuteTime": {
     "end_time": "2024-07-15T16:55:20.217316Z",
     "start_time": "2024-07-15T16:55:19.782028Z"
    }
   },
   "cell_type": "code",
   "source": [
    "run = client.beta.threads.runs.create(\n",
    "    thread_id=thread.id,\n",
    "    assistant_id='asst_mIdMfHme0YD70Fiux9ucrdVk',\n",
    ")\n",
    "show_json(run)"
   ],
   "id": "616a759313d6fbb1",
   "outputs": [
    {
     "data": {
      "text/plain": [
       "{'id': 'run_Thll2fRObnYGbpVjivvVis75',\n",
       " 'assistant_id': 'asst_mIdMfHme0YD70Fiux9ucrdVk',\n",
       " 'cancelled_at': None,\n",
       " 'completed_at': None,\n",
       " 'created_at': 1721062521,\n",
       " 'expires_at': 1721063121,\n",
       " 'failed_at': None,\n",
       " 'incomplete_details': None,\n",
       " 'instructions': \"You are a supplier relationship manager looking to validate the validity of a provided company based on its name and other details provided in a query. Your instructions are to use any information provided to confirm the existence of a company based on it's web presence and then assign them a classification based upon the UNSPSC category tree. Your responses should be short and succinct indicating a Yes/No value to the discovery of a web presence as well as the code and description of the UNSPSC category code, for example 43231503 - Procurement software.\",\n",
       " 'last_error': None,\n",
       " 'max_completion_tokens': None,\n",
       " 'max_prompt_tokens': None,\n",
       " 'metadata': {},\n",
       " 'model': 'gpt-4o-2024-05-13',\n",
       " 'object': 'thread.run',\n",
       " 'parallel_tool_calls': True,\n",
       " 'required_action': None,\n",
       " 'response_format': 'auto',\n",
       " 'started_at': None,\n",
       " 'status': 'queued',\n",
       " 'thread_id': 'thread_XaQKbYe7HEhFNgyphNwY7jQj',\n",
       " 'tool_choice': 'auto',\n",
       " 'tools': [],\n",
       " 'truncation_strategy': {'type': 'auto', 'last_messages': None},\n",
       " 'usage': None,\n",
       " 'temperature': 1.0,\n",
       " 'top_p': 1.0,\n",
       " 'tool_resources': {}}"
      ]
     },
     "metadata": {},
     "output_type": "display_data"
    }
   ],
   "execution_count": 34
  },
  {
   "metadata": {},
   "cell_type": "markdown",
   "source": [
    "Creating a Run is an asynchronous operation. It will return immediately with the Run's metadata, which includes a \n",
    "status that will initially be set to queued. The status will be updated as the Assistant performs operations (like using tools and adding messages).\n",
    "\n",
    "To know when the Assistant has completed processing, we can poll the Run in a loop. While here we are only checking for a queued or in_progress status, in practice a Run may undergo a variety of status changes which you can choose to surface to the user. (These are called Steps)"
   ],
   "id": "9f2ba0edfb8da776"
  },
  {
   "metadata": {
    "ExecuteTime": {
     "end_time": "2024-07-15T16:55:25.336503Z",
     "start_time": "2024-07-15T16:55:24.668613Z"
    }
   },
   "cell_type": "code",
   "source": [
    "import time\n",
    "\n",
    "\n",
    "def wait_on_run(run, thread):\n",
    "    while run.status == \"queued\" or run.status == \"in_progress\":\n",
    "        run = client.beta.threads.runs.retrieve(\n",
    "            thread_id=thread.id,\n",
    "            run_id=run.id,\n",
    "        )\n",
    "        time.sleep(0.5)\n",
    "    return run\n",
    "\n",
    "\n",
    "run = wait_on_run(run, thread)\n",
    "show_json(run)"
   ],
   "id": "3cf9310b9c1420d9",
   "outputs": [
    {
     "data": {
      "text/plain": [
       "{'id': 'run_Thll2fRObnYGbpVjivvVis75',\n",
       " 'assistant_id': 'asst_mIdMfHme0YD70Fiux9ucrdVk',\n",
       " 'cancelled_at': None,\n",
       " 'completed_at': 1721062524,\n",
       " 'created_at': 1721062521,\n",
       " 'expires_at': None,\n",
       " 'failed_at': None,\n",
       " 'incomplete_details': None,\n",
       " 'instructions': \"You are a supplier relationship manager looking to validate the validity of a provided company based on its name and other details provided in a query. Your instructions are to use any information provided to confirm the existence of a company based on it's web presence and then assign them a classification based upon the UNSPSC category tree. Your responses should be short and succinct indicating a Yes/No value to the discovery of a web presence as well as the code and description of the UNSPSC category code, for example 43231503 - Procurement software.\",\n",
       " 'last_error': None,\n",
       " 'max_completion_tokens': None,\n",
       " 'max_prompt_tokens': None,\n",
       " 'metadata': {},\n",
       " 'model': 'gpt-4o-2024-05-13',\n",
       " 'object': 'thread.run',\n",
       " 'parallel_tool_calls': True,\n",
       " 'required_action': None,\n",
       " 'response_format': 'auto',\n",
       " 'started_at': 1721062521,\n",
       " 'status': 'completed',\n",
       " 'thread_id': 'thread_XaQKbYe7HEhFNgyphNwY7jQj',\n",
       " 'tool_choice': 'auto',\n",
       " 'tools': [],\n",
       " 'truncation_strategy': {'type': 'auto', 'last_messages': None},\n",
       " 'usage': {'completion_tokens': 97, 'prompt_tokens': 370, 'total_tokens': 467},\n",
       " 'temperature': 1.0,\n",
       " 'top_p': 1.0,\n",
       " 'tool_resources': {}}"
      ]
     },
     "metadata": {},
     "output_type": "display_data"
    }
   ],
   "execution_count": 35
  },
  {
   "metadata": {},
   "cell_type": "markdown",
   "source": "Now that the Run has completed, we can list the Messages in the Thread to see what got added by the Assistant.",
   "id": "21c5b8b05654a8dd"
  },
  {
   "metadata": {
    "ExecuteTime": {
     "end_time": "2024-07-15T16:55:35.464Z",
     "start_time": "2024-07-15T16:55:35.306810Z"
    }
   },
   "cell_type": "code",
   "source": [
    "messages = client.beta.threads.messages.list(thread_id=thread.id)\n",
    "show_json(messages)"
   ],
   "id": "9b8c91fd36806150",
   "outputs": [
    {
     "data": {
      "text/plain": [
       "{'data': [{'id': 'msg_KIv7aKPgkbIf1P697ChBF6ut',\n",
       "   'assistant_id': 'asst_mIdMfHme0YD70Fiux9ucrdVk',\n",
       "   'attachments': [],\n",
       "   'completed_at': None,\n",
       "   'content': [{'text': {'annotations': [],\n",
       "      'value': '| Validated? | Confidence Score | Source                                         | Classification       | Comments                                       |\\n|------------|------------------|------------------------------------------------|----------------------|-----------------------------------------------|\\n| Yes        | 95%              | https://www.rheem.com/                         | 40101701 - HVAC systems | RHEEM SALES COMPANY INC has a strong web presence; well-known in the HVAC industry.  |\\n\\nNote: Classification is based on the principal business activity of manufacturing and supplying HVAC systems.'},\n",
       "     'type': 'text'}],\n",
       "   'created_at': 1721062522,\n",
       "   'incomplete_at': None,\n",
       "   'incomplete_details': None,\n",
       "   'metadata': {},\n",
       "   'object': 'thread.message',\n",
       "   'role': 'assistant',\n",
       "   'run_id': 'run_Thll2fRObnYGbpVjivvVis75',\n",
       "   'status': None,\n",
       "   'thread_id': 'thread_XaQKbYe7HEhFNgyphNwY7jQj'},\n",
       "  {'id': 'msg_MGQefPO0syFOtk7PcvCIlQNu',\n",
       "   'assistant_id': None,\n",
       "   'attachments': [],\n",
       "   'completed_at': None,\n",
       "   'content': [{'text': {'annotations': [],\n",
       "      'value': 'I would like to validate and classify the organization: RHEEM SALES COMPANY INC                 , please include a confidence score for each classification and any sources cited. If results are inconclusive, please indicate that is the case. Please produce your response in a tablular format with the following columns: Validated?, Confidence Score, Source, Classification and Comments.'},\n",
       "     'type': 'text'}],\n",
       "   'created_at': 1721062514,\n",
       "   'incomplete_at': None,\n",
       "   'incomplete_details': None,\n",
       "   'metadata': {},\n",
       "   'object': 'thread.message',\n",
       "   'role': 'user',\n",
       "   'run_id': None,\n",
       "   'status': None,\n",
       "   'thread_id': 'thread_XaQKbYe7HEhFNgyphNwY7jQj'},\n",
       "  {'id': 'msg_lQe3dGberMpGh4Q67Ve3hZ6I',\n",
       "   'assistant_id': 'asst_mIdMfHme0YD70Fiux9ucrdVk',\n",
       "   'attachments': [],\n",
       "   'completed_at': None,\n",
       "   'content': [{'text': {'annotations': [],\n",
       "      'value': '**Web Presence Validation:**\\n- Yes, RHEEM SALES COMPANY INC has a web presence. The company has a well-established website at https://www.rheem.com/. It is a recognized manufacturer in the HVAC (heating, ventilation, and air conditioning) industry.\\n\\n**Classification:**\\n\\n- **Category Code:** 40101701\\n- **Description:** HVAC systems\\n- **Confidence Score:** 95%\\n\\n**Sources:**\\n- Official company website: [Rheem](https://www.rheem.com/)\\n\\nIf any further details or research is needed, please let me know.'},\n",
       "     'type': 'text'}],\n",
       "   'created_at': 1721060696,\n",
       "   'incomplete_at': None,\n",
       "   'incomplete_details': None,\n",
       "   'metadata': {},\n",
       "   'object': 'thread.message',\n",
       "   'role': 'assistant',\n",
       "   'run_id': 'run_IpxJBKEZnDf71TkukzmelEWE',\n",
       "   'status': None,\n",
       "   'thread_id': 'thread_XaQKbYe7HEhFNgyphNwY7jQj'},\n",
       "  {'id': 'msg_jbWQC0VWcU3WXMvoLTUhviQd',\n",
       "   'assistant_id': None,\n",
       "   'attachments': [],\n",
       "   'completed_at': None,\n",
       "   'content': [{'text': {'annotations': [],\n",
       "      'value': 'I would like to validate and classify the organization: RHEEM SALES COMPANY INC                 , please include a confidence score for each classification and any sources cited. If results are inconclusive, please indicate that is the case.'},\n",
       "     'type': 'text'}],\n",
       "   'created_at': 1721060501,\n",
       "   'incomplete_at': None,\n",
       "   'incomplete_details': None,\n",
       "   'metadata': {},\n",
       "   'object': 'thread.message',\n",
       "   'role': 'user',\n",
       "   'run_id': None,\n",
       "   'status': None,\n",
       "   'thread_id': 'thread_XaQKbYe7HEhFNgyphNwY7jQj'}],\n",
       " 'object': 'list',\n",
       " 'first_id': 'msg_KIv7aKPgkbIf1P697ChBF6ut',\n",
       " 'last_id': 'msg_jbWQC0VWcU3WXMvoLTUhviQd',\n",
       " 'has_more': False}"
      ]
     },
     "metadata": {},
     "output_type": "display_data"
    }
   ],
   "execution_count": 36
  },
  {
   "metadata": {},
   "cell_type": "markdown",
   "source": "Let's add some (more) formatting to that to make it easier to read.",
   "id": "393f2fb9e1e4b0c"
  },
  {
   "metadata": {
    "ExecuteTime": {
     "end_time": "2024-07-15T16:55:42.898456Z",
     "start_time": "2024-07-15T16:55:42.891609Z"
    }
   },
   "cell_type": "code",
   "source": [
    "from IPython.display import display_html\n",
    "\n",
    "try:\n",
    "    messages_dict = messages.to_dict()  # Replace with the actual method if different\n",
    "except AttributeError:\n",
    "    # If the object doesn't have a to_dict method, it might already be a dictionary\n",
    "    messages_dict = dict(messages)\n",
    "\n",
    "# Check the type and content of messages_dict\n",
    "print(type(messages_dict))\n",
    "print(messages_dict.keys())\n",
    "\n",
    "df = pd.json_normalize(messages_dict['data'])\n",
    "\n",
    "# Display the DataFrame as an HTML table\n",
    "display_html(df.to_html(), raw=True)"
   ],
   "id": "bf8482dcbc64237",
   "outputs": [
    {
     "name": "stdout",
     "output_type": "stream",
     "text": [
      "<class 'dict'>\n",
      "dict_keys(['data', 'object', 'first_id', 'last_id', 'has_more'])\n"
     ]
    },
    {
     "data": {
      "text/html": [
       "<table border=\"1\" class=\"dataframe\">\n",
       "  <thead>\n",
       "    <tr style=\"text-align: right;\">\n",
       "      <th></th>\n",
       "      <th>id</th>\n",
       "      <th>assistant_id</th>\n",
       "      <th>attachments</th>\n",
       "      <th>content</th>\n",
       "      <th>created_at</th>\n",
       "      <th>object</th>\n",
       "      <th>role</th>\n",
       "      <th>run_id</th>\n",
       "      <th>thread_id</th>\n",
       "    </tr>\n",
       "  </thead>\n",
       "  <tbody>\n",
       "    <tr>\n",
       "      <th>0</th>\n",
       "      <td>msg_KIv7aKPgkbIf1P697ChBF6ut</td>\n",
       "      <td>asst_mIdMfHme0YD70Fiux9ucrdVk</td>\n",
       "      <td>[]</td>\n",
       "      <td>[{'text': {'annotations': [], 'value': '| Validated? | Confidence Score | Source                                         | Classification       | Comments                                       |\n",
       "|------------|------------------|------------------------------------------------|----------------------|-----------------------------------------------|\n",
       "| Yes        | 95%              | https://www.rheem.com/                         | 40101701 - HVAC systems | RHEEM SALES COMPANY INC has a strong web presence; well-known in the HVAC industry.  |\n",
       "\n",
       "Note: Classification is based on the principal business activity of manufacturing and supplying HVAC systems.'}, 'type': 'text'}]</td>\n",
       "      <td>1721062522</td>\n",
       "      <td>thread.message</td>\n",
       "      <td>assistant</td>\n",
       "      <td>run_Thll2fRObnYGbpVjivvVis75</td>\n",
       "      <td>thread_XaQKbYe7HEhFNgyphNwY7jQj</td>\n",
       "    </tr>\n",
       "    <tr>\n",
       "      <th>1</th>\n",
       "      <td>msg_MGQefPO0syFOtk7PcvCIlQNu</td>\n",
       "      <td>None</td>\n",
       "      <td>[]</td>\n",
       "      <td>[{'text': {'annotations': [], 'value': 'I would like to validate and classify the organization: RHEEM SALES COMPANY INC                 , please include a confidence score for each classification and any sources cited. If results are inconclusive, please indicate that is the case. Please produce your response in a tablular format with the following columns: Validated?, Confidence Score, Source, Classification and Comments.'}, 'type': 'text'}]</td>\n",
       "      <td>1721062514</td>\n",
       "      <td>thread.message</td>\n",
       "      <td>user</td>\n",
       "      <td>None</td>\n",
       "      <td>thread_XaQKbYe7HEhFNgyphNwY7jQj</td>\n",
       "    </tr>\n",
       "    <tr>\n",
       "      <th>2</th>\n",
       "      <td>msg_lQe3dGberMpGh4Q67Ve3hZ6I</td>\n",
       "      <td>asst_mIdMfHme0YD70Fiux9ucrdVk</td>\n",
       "      <td>[]</td>\n",
       "      <td>[{'text': {'annotations': [], 'value': '**Web Presence Validation:**\n",
       "- Yes, RHEEM SALES COMPANY INC has a web presence. The company has a well-established website at https://www.rheem.com/. It is a recognized manufacturer in the HVAC (heating, ventilation, and air conditioning) industry.\n",
       "\n",
       "**Classification:**\n",
       "\n",
       "- **Category Code:** 40101701\n",
       "- **Description:** HVAC systems\n",
       "- **Confidence Score:** 95%\n",
       "\n",
       "**Sources:**\n",
       "- Official company website: [Rheem](https://www.rheem.com/)\n",
       "\n",
       "If any further details or research is needed, please let me know.'}, 'type': 'text'}]</td>\n",
       "      <td>1721060696</td>\n",
       "      <td>thread.message</td>\n",
       "      <td>assistant</td>\n",
       "      <td>run_IpxJBKEZnDf71TkukzmelEWE</td>\n",
       "      <td>thread_XaQKbYe7HEhFNgyphNwY7jQj</td>\n",
       "    </tr>\n",
       "    <tr>\n",
       "      <th>3</th>\n",
       "      <td>msg_jbWQC0VWcU3WXMvoLTUhviQd</td>\n",
       "      <td>None</td>\n",
       "      <td>[]</td>\n",
       "      <td>[{'text': {'annotations': [], 'value': 'I would like to validate and classify the organization: RHEEM SALES COMPANY INC                 , please include a confidence score for each classification and any sources cited. If results are inconclusive, please indicate that is the case.'}, 'type': 'text'}]</td>\n",
       "      <td>1721060501</td>\n",
       "      <td>thread.message</td>\n",
       "      <td>user</td>\n",
       "      <td>None</td>\n",
       "      <td>thread_XaQKbYe7HEhFNgyphNwY7jQj</td>\n",
       "    </tr>\n",
       "  </tbody>\n",
       "</table>"
      ]
     },
     "metadata": {},
     "output_type": "display_data"
    }
   ],
   "execution_count": 37
  },
  {
   "metadata": {},
   "cell_type": "markdown",
   "source": [
    "Next up, we can consolidate all the steps laid out above into a function that can loop through all suppliers in our \n",
    "data set and ask OpenAI to classify them."
   ],
   "id": "70d0ef945882384a"
  }
 ],
 "metadata": {
  "kernelspec": {
   "display_name": "Python 3",
   "language": "python",
   "name": "python3"
  },
  "language_info": {
   "codemirror_mode": {
    "name": "ipython",
    "version": 2
   },
   "file_extension": ".py",
   "mimetype": "text/x-python",
   "name": "python",
   "nbconvert_exporter": "python",
   "pygments_lexer": "ipython2",
   "version": "2.7.6"
  }
 },
 "nbformat": 4,
 "nbformat_minor": 5
}
