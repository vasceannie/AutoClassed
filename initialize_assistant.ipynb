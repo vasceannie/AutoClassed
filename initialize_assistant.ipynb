{
 "cells": [
  {
   "metadata": {},
   "cell_type": "markdown",
   "source": [
    "# Creating a Custom Assistant\n",
    "\n",
    "WIP\n",
    "\n"
   ],
   "id": "f946642461ab5ea2"
  },
  {
   "metadata": {
    "ExecuteTime": {
     "end_time": "2024-07-17T04:37:07.745414Z",
     "start_time": "2024-07-17T04:37:07.742065Z"
    }
   },
   "cell_type": "code",
   "source": [
    "import json\n",
    "\n",
    "\n",
    "# Define a function to display the JSON response\n",
    "def show_json(obj):\n",
    "    display(json.loads(obj.model_dump_json()))\n"
   ],
   "id": "a9de5f160b2a5b6d",
   "outputs": [],
   "execution_count": 3
  },
  {
   "cell_type": "code",
   "id": "initial_id",
   "metadata": {
    "collapsed": true,
    "ExecuteTime": {
     "end_time": "2024-07-17T04:38:19.236297Z",
     "start_time": "2024-07-17T04:38:18.771358Z"
    }
   },
   "source": [
    "from openai import OpenAI\n",
    "\n",
    "client = OpenAI()\n",
    "\n",
    "assistant = client.beta.assistants.create(\n",
    "    name=\"Spendabot\",\n",
    "    instructions=\"You are a supplier relationship manager looking to validate the validity of a provided company based on its name and other details provided in a query. Your instructions are to use any information provided to confirm the existence of a company based on it's web presence and then assign them a classification based upon the UNSPSC category tree. Your responses should be short and succinct indicating a Yes/No value to the discovery of a web presence as well as the code and description of the UNSPSC category code, for example 43231503 - Procurement software.\",\n",
    "    model=\"gpt-3.5-turbo-16k\",\n",
    "    tools=[\n",
    "        {\n",
    "            \"type\": \"function\",\n",
    "            \"function\": {\n",
    "                \"name\": \"get_vendor_classification\",\n",
    "                \"description\": \"Obtain the UNSPSC classification of the vendor based on the provided data.\",\n",
    "                \"parameters\": {\n",
    "                    \"type\": \"object\",\n",
    "                    \"properties\": {\n",
    "                        \"validity\": {\n",
    "                            \"type\": \"boolean\",\n",
    "                            \"description\": \"A confirmation of a web presence for the vendor in question.\"\n",
    "                        },\n",
    "                        \"classification_code\": {\n",
    "                            \"type\": \"string\",\n",
    "                            \"description\": \"The most relevent UNSPSC classification code for the vendor.\"\n",
    "                        },\n",
    "                        \"classification_name\": {\n",
    "                            \"type\": \"string\",\n",
    "                            \"description\": \"The most relevent UNSPSC classification name for the vendor.\"\n",
    "                        },\n",
    "                        \"comments\": {\n",
    "                            \"type\": \"string\",\n",
    "                            \"description\": \"A cited source for the vendor's classification or any information that \"\n",
    "                                           \"can help validate the classification.\"\n",
    "                        },\n",
    "                    },\n",
    "                    \"required\": [\"validity\", \"classification_code\", \"classification_name\", \"comments\"]\n",
    "                }\n",
    "            }\n",
    "        },\n",
    "        {\n",
    "            \"type\": \"function\",\n",
    "            \"function\": {\n",
    "                \"name\": \"get_item_classification\",\n",
    "                \"description\": \"Obtain the UNSPSC classification of the item description based on the provided data.\",\n",
    "                \"parameters\": {\n",
    "                    \"type\": \"object\",\n",
    "                    \"properties\": {\n",
    "                        \"classification_code\": {\n",
    "                            \"type\": \"string\",\n",
    "                            \"description\": \"The most relevent UNSPSC classification code for the item.\"\n",
    "                        },\n",
    "                        \"classification_name\": {\n",
    "                            \"type\": \"string\",\n",
    "                            \"description\": \"The most relevent UNSPSC classification name for the item.\"\n",
    "                        },\n",
    "                        \"comments\": {\n",
    "                            \"type\": \"string\",\n",
    "                            \"description\": \"A cited source for the item's classification or any information that \"\n",
    "                                           \"can help validate the classification.\"\n",
    "                        },\n",
    "                    },\n",
    "                    \"required\": [\"classification_code\", \"classification_name\", \"comments\"]\n",
    "                }\n",
    "            }\n",
    "        }\n",
    "    ]\n",
    ")\n",
    "\n",
    "show_json(assistant)"
   ],
   "outputs": [
    {
     "data": {
      "text/plain": [
       "{'id': 'asst_5KogpF8Tb1u7tTcLAEDH98UM',\n",
       " 'created_at': 1721191100,\n",
       " 'description': None,\n",
       " 'instructions': \"You are a supplier relationship manager looking to validate the validity of a provided company based on its name and other details provided in a query. Your instructions are to use any information provided to confirm the existence of a company based on it's web presence and then assign them a classification based upon the UNSPSC category tree. Your responses should be short and succinct indicating a Yes/No value to the discovery of a web presence as well as the code and description of the UNSPSC category code, for example 43231503 - Procurement software.\",\n",
       " 'metadata': {},\n",
       " 'model': 'gpt-3.5-turbo-16k',\n",
       " 'name': 'Spendabot',\n",
       " 'object': 'assistant',\n",
       " 'tools': [{'function': {'name': 'get_vendor_classification',\n",
       "    'description': 'Obtain the UNSPSC classification of the vendor based on the provided data.',\n",
       "    'parameters': {'type': 'object',\n",
       "     'properties': {'validity': {'type': 'boolean',\n",
       "       'description': 'A confirmation of a web presence for the vendor in question.'},\n",
       "      'classification_code': {'type': 'string',\n",
       "       'description': 'The most relevent UNSPSC classification code for the vendor.'},\n",
       "      'classification_name': {'type': 'string',\n",
       "       'description': 'The most relevent UNSPSC classification name for the vendor.'},\n",
       "      'comments': {'type': 'string',\n",
       "       'description': \"A cited source for the vendor's classification or any information that can help validate the classification.\"}},\n",
       "     'required': ['validity',\n",
       "      'classification_code',\n",
       "      'classification_name',\n",
       "      'comments']}},\n",
       "   'type': 'function'},\n",
       "  {'function': {'name': 'get_item_classification',\n",
       "    'description': 'Obtain the UNSPSC classification of the item description based on the provided data.',\n",
       "    'parameters': {'type': 'object',\n",
       "     'properties': {'classification_code': {'type': 'string',\n",
       "       'description': 'The most relevent UNSPSC classification code for the item.'},\n",
       "      'classification_name': {'type': 'string',\n",
       "       'description': 'The most relevent UNSPSC classification name for the item.'},\n",
       "      'comments': {'type': 'string',\n",
       "       'description': \"A cited source for the item's classification or any information that can help validate the classification.\"}},\n",
       "     'required': ['classification_code', 'classification_name', 'comments']}},\n",
       "   'type': 'function'}],\n",
       " 'response_format': 'auto',\n",
       " 'temperature': 1.0,\n",
       " 'tool_resources': {'code_interpreter': None, 'file_search': None},\n",
       " 'top_p': 1.0}"
      ]
     },
     "metadata": {},
     "output_type": "display_data"
    }
   ],
   "execution_count": 5
  },
  {
   "metadata": {},
   "cell_type": "code",
   "outputs": [],
   "execution_count": null,
   "source": "",
   "id": "3acca6da331f61cf"
  }
 ],
 "metadata": {
  "kernelspec": {
   "display_name": "Python 3",
   "language": "python",
   "name": "python3"
  },
  "language_info": {
   "codemirror_mode": {
    "name": "ipython",
    "version": 2
   },
   "file_extension": ".py",
   "mimetype": "text/x-python",
   "name": "python",
   "nbconvert_exporter": "python",
   "pygments_lexer": "ipython2",
   "version": "2.7.6"
  }
 },
 "nbformat": 4,
 "nbformat_minor": 5
}
